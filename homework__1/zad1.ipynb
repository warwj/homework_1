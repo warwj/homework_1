{
 "cells": [
  {
   "cell_type": "code",
   "execution_count": 2,
   "metadata": {},
   "outputs": [],
   "source": [
    "import pandas as pd\n",
    "import numpy as np\n",
    "\n",
    "url = \"https://raw.githubusercontent.com/Yorko/mlcourse.ai/main/data/\"\n",
    "data = pd.read_csv(url + \"adult.data.csv\")"
   ]
  },
  {
   "cell_type": "code",
   "execution_count": 4,
   "metadata": {},
   "outputs": [
    {
     "name": "stdout",
     "output_type": "stream",
     "text": [
      "<bound method NDFrame.head of        age         workclass  fnlwgt   education  education-num  \\\n",
      "0       39         State-gov   77516   Bachelors             13   \n",
      "1       50  Self-emp-not-inc   83311   Bachelors             13   \n",
      "2       38           Private  215646     HS-grad              9   \n",
      "3       53           Private  234721        11th              7   \n",
      "4       28           Private  338409   Bachelors             13   \n",
      "...    ...               ...     ...         ...            ...   \n",
      "32556   27           Private  257302  Assoc-acdm             12   \n",
      "32557   40           Private  154374     HS-grad              9   \n",
      "32558   58           Private  151910     HS-grad              9   \n",
      "32559   22           Private  201490     HS-grad              9   \n",
      "32560   52      Self-emp-inc  287927     HS-grad              9   \n",
      "\n",
      "           marital-status         occupation   relationship   race     sex  \\\n",
      "0           Never-married       Adm-clerical  Not-in-family  White    Male   \n",
      "1      Married-civ-spouse    Exec-managerial        Husband  White    Male   \n",
      "2                Divorced  Handlers-cleaners  Not-in-family  White    Male   \n",
      "3      Married-civ-spouse  Handlers-cleaners        Husband  Black    Male   \n",
      "4      Married-civ-spouse     Prof-specialty           Wife  Black  Female   \n",
      "...                   ...                ...            ...    ...     ...   \n",
      "32556  Married-civ-spouse       Tech-support           Wife  White  Female   \n",
      "32557  Married-civ-spouse  Machine-op-inspct        Husband  White    Male   \n",
      "32558             Widowed       Adm-clerical      Unmarried  White  Female   \n",
      "32559       Never-married       Adm-clerical      Own-child  White    Male   \n",
      "32560  Married-civ-spouse    Exec-managerial           Wife  White  Female   \n",
      "\n",
      "       capital-gain  capital-loss  hours-per-week native-country salary  \n",
      "0              2174             0              40  United-States  <=50K  \n",
      "1                 0             0              13  United-States  <=50K  \n",
      "2                 0             0              40  United-States  <=50K  \n",
      "3                 0             0              40  United-States  <=50K  \n",
      "4                 0             0              40           Cuba  <=50K  \n",
      "...             ...           ...             ...            ...    ...  \n",
      "32556             0             0              38  United-States  <=50K  \n",
      "32557             0             0              40  United-States   >50K  \n",
      "32558             0             0              40  United-States  <=50K  \n",
      "32559             0             0              20  United-States  <=50K  \n",
      "32560         15024             0              40  United-States   >50K  \n",
      "\n",
      "[32561 rows x 15 columns]>\n",
      "Число столбцов в наборе данных:  15\n"
     ]
    }
   ],
   "source": [
    "print(data.head)\n",
    "print(\"Число столбцов в наборе данных: \", len(data.columns))"
   ]
  },
  {
   "cell_type": "code",
   "execution_count": 5,
   "metadata": {},
   "outputs": [
    {
     "name": "stdout",
     "output_type": "stream",
     "text": [
      "Пропуски в данных: 0\n"
     ]
    }
   ],
   "source": [
    "missing_data = data.isnull().sum().sum ()\n",
    "print(f\"Пропуски в данных: {missing_data}\")"
   ]
  },
  {
   "cell_type": "code",
   "execution_count": 6,
   "metadata": {},
   "outputs": [
    {
     "name": "stdout",
     "output_type": "stream",
     "text": [
      "Количество уникальных значений в столбце 'race': 5\n"
     ]
    }
   ],
   "source": [
    "unique_race_count = data['race'].nunique()\n",
    "print(\"Количество уникальных значений в столбце 'race':\", unique_race_count)"
   ]
  },
  {
   "cell_type": "code",
   "execution_count": 7,
   "metadata": {},
   "outputs": [
    {
     "name": "stdout",
     "output_type": "stream",
     "text": [
      "Медиана значений в столбце 'hours-per-week': 40.0\n"
     ]
    }
   ],
   "source": [
    "median_hours_per_week = data['hours-per-week'].median()\n",
    "print(\"Медиана значений в столбце 'hours-per-week':\", median_hours_per_week)"
   ]
  },
  {
   "cell_type": "code",
   "execution_count": 8,
   "metadata": {},
   "outputs": [
    {
     "name": "stdout",
     "output_type": "stream",
     "text": [
      "Male\n"
     ]
    }
   ],
   "source": [
    "salary_check = data['salary'] == '>50K'\n",
    "male_count = data[salary_check]['sex'].value_counts()['Male']\n",
    "female_count = data[salary_check]['sex'].value_counts()['Female']\n",
    "\n",
    "if male_count > female_count:\n",
    "     print(\"Male\")\n",
    "elif male_count < female_count:\n",
    "     print(\"Female\")\n",
    "else:\n",
    "     print(\"M = F\")"
   ]
  },
  {
   "cell_type": "code",
   "execution_count": 9,
   "metadata": {},
   "outputs": [
    {
     "name": "stdout",
     "output_type": "stream",
     "text": [
      "Все пропущенные данные успешно заполнены.\n"
     ]
    }
   ],
   "source": [
    "for column in data.columns:\n",
    "    most_common_value = data[column].mode()[0]\n",
    "    data[column] = data[column].fillna(most_common_value)\n",
    "\n",
    "missing_data_after = data.isnull().sum()\n",
    "if missing_data_after.sum() == 0:\n",
    "    print(\"Все пропущенные данные успешно заполнены.\")\n",
    "else:\n",
    "    print(f\"Остались пропуски:\\n{missing_data_after[missing_data_after > 0]}\")"
   ]
  },
  {
   "cell_type": "markdown",
   "metadata": {},
   "source": [
    "<ol>\n",
    "    <li>15</li>\n",
    "    <li>0</li>\n",
    "    <li>5</li>\n",
    "    <li>40.0</li>\n",
    "    <li>Male</li>\n",
    "    <li>Другие методы заполнения пропусков:\n",
    "        <ul>\n",
    "            <li>Средним значением</li>\n",
    "            <li>Медианой</li>\n",
    "            <li>Метод интерполяции</li>\n",
    "            <li>Заполнение специальными значениями (например, \"Unknown\", 0, -1)</li>\n",
    "            <li>Удаление строк или столбцов с пропусками</li>\n",
    "            <li>Алгоритмы машинного обучения</li>\n",
    "        </ul>\n",
    "    </li>\n",
    "</ol>\n"
   ]
  }
 ],
 "metadata": {
  "kernelspec": {
   "display_name": "Python 3",
   "language": "python",
   "name": "python3"
  },
  "language_info": {
   "codemirror_mode": {
    "name": "ipython",
    "version": 3
   },
   "file_extension": ".py",
   "mimetype": "text/x-python",
   "name": "python",
   "nbconvert_exporter": "python",
   "pygments_lexer": "ipython3",
   "version": "3.12.8"
  }
 },
 "nbformat": 4,
 "nbformat_minor": 2
}
